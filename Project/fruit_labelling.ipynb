{
 "cells": [
  {
   "cell_type": "code",
   "execution_count": null,
   "metadata": {},
   "outputs": [],
   "source": [
    "fruits = [\"apple\", \"banana\", \"tomato\"]\n",
    "\n",
    "def classify_fruit(image):\n",
    "  \n",
    "  fast = cv2.FastFeatureDetector_create() \n",
    "  brief = cv2.xfeatures2d.BriefDescriptorExtractor_create()\n",
    "  # Detect keypoints and compute descriptors for both image and reference images\n",
    "  test_keypoints = fast.detect(image, None)\n",
    "  test_keypoints, test_descriptors = brief.compute(image, test_keypoints)\n",
    "\n",
    "  # Define reference features for each fruit class (manually create or load pre-computed)\n",
    "  reference_features = {}\n",
    "  for fruit in fruits:\n",
    "    # Load reference image for the fruit class (replace with your image loading logic)\n",
    "    train_image = cv2.imread(f\"train_{fruit}.png\", cv2.IMREAD_GRAYSCALE)\n",
    "    # train_image_gray = cv2.cvtColor(train_image, cv2.COLOR_BGR2GRAY)\n",
    "\n",
    "    train_keypoints = fast.detect(image, None)\n",
    "    train_keypoints, train_descriptors = brief.compute(train_image, train_keypoints)\n",
    "    reference_features[fruit] = train_descriptors\n",
    "\n",
    "  # Matching with Brute-Force Matcher and Hamming distance\n",
    "  bf = cv2.BFMatcher(cv2.NORM_HAMMING)\n",
    "  best_matches = []\n",
    "  best_fruit = None\n",
    "\n",
    "  for fruit, train_descriptors in reference_features.items():\n",
    "    matches = bf.match(train_descriptors, test_descriptors)\n",
    "    matches = sorted(matches, key=lambda x: x.distance)\n",
    "\n",
    "    # Consider number of good matches for classification\n",
    "    if len(matches) > len(best_matches):\n",
    "      best_matches = matches\n",
    "      best_fruit = fruit\n",
    "\n",
    "  # Confidence threshold (optional)\n",
    "  return best_fruit"
   ]
  },
  {
   "cell_type": "code",
   "execution_count": null,
   "metadata": {},
   "outputs": [],
   "source": []
  },
  {
   "cell_type": "code",
   "execution_count": null,
   "metadata": {},
   "outputs": [],
   "source": [
    "\n",
    "\n",
    "fruit_label = classify_fruit(test_image)\n",
    "print(fruit_label)"
   ]
  }
 ],
 "metadata": {
  "language_info": {
   "name": "python"
  }
 },
 "nbformat": 4,
 "nbformat_minor": 2
}
