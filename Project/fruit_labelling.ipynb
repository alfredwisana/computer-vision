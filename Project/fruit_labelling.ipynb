{
 "cells": [
  {
   "cell_type": "code",
   "execution_count": 140,
   "metadata": {},
   "outputs": [],
   "source": [
    "import cv2\n",
    "import os\n",
    "import re\n",
    "import numpy as np\n",
    "import matplotlib.pyplot as plt"
   ]
  },
  {
   "cell_type": "code",
   "execution_count": 141,
   "metadata": {},
   "outputs": [],
   "source": [
    "fruits = [\"apple\", \"banana\", \"orange\"]\n",
    "\n",
    "def classify_fruit(image):\n",
    "    \n",
    "    fast = cv2.FastFeatureDetector_create() \n",
    "    brief = cv2.xfeatures2d.BriefDescriptorExtractor_create(bytes=32)\n",
    "    \n",
    "    # Detect keypoints for the test image\n",
    "    test_keypoints = fast.detect(image, None)\n",
    "    if not test_keypoints:\n",
    "        # print(\"No keypoints detected in the test image.\")\n",
    "        return 'No KP'\n",
    "    \n",
    "    # Compute descriptors for the test image keypoints\n",
    "    test_keypoints, test_descriptors = brief.compute(image, test_keypoints)\n",
    "    if test_descriptors is None:\n",
    "        # print(\"No descriptors computed for the test image.\")\n",
    "        return 'NO des'\n",
    "    \n",
    "    reference_features = {}\n",
    "    i = 0\n",
    "    # Define reference features for each fruit class (manually create or load pre-computed)\n",
    "    for fruit in fruits:\n",
    "        train_image = cv2.imread(\"./train_data/\"+fruit+\"/train_\"+fruit+\"2.png\", cv2.IMREAD_GRAYSCALE)\n",
    "        \n",
    "        # Load reference image for the fruit class (replace with your image loading logic)\n",
    "        train_keypoints = fast.detect(train_image, None)\n",
    "        train_keypoints, train_descriptors = brief.compute(train_image, train_keypoints)\n",
    "\n",
    "        reference_features[fruit] = train_descriptors\n",
    "        i+=1\n",
    "    \n",
    "    print(i)\n",
    "\n",
    "    # Matching with Brute-Force Matcher and Hamming distance\n",
    "    bf = cv2.BFMatcher(cv2.NORM_HAMMING)\n",
    "    best_matches = []\n",
    "    best_fruit = None\n",
    "    \n",
    "    i=1\n",
    "    \n",
    "    for fruit, train_descriptors in reference_features.items():\n",
    "\n",
    "        matches = bf.match(train_descriptors, test_descriptors)\n",
    "        matches = sorted(matches, key=lambda x: x.distance)\n",
    "        print('Match:', len(matches))\n",
    "        print('Best Match:', len(best_matches))\n",
    "        # Consider number of good matches for classification\n",
    "        if len(matches) > len(best_matches):\n",
    "            best_matches = matches\n",
    "            best_fruit = fruit\n",
    "\n",
    "            print(best_fruit)\n",
    "\n",
    "        print('========================')\n",
    "\n",
    "    # Confidence threshold (optional)\n",
    "    # return best_fruit\n"
   ]
  },
  {
   "cell_type": "code",
   "execution_count": 142,
   "metadata": {},
   "outputs": [
    {
     "name": "stdout",
     "output_type": "stream",
     "text": [
      "Loop 1\n",
      "3\n",
      "Match: 94\n",
      "Best Match: 0\n",
      "apple\n",
      "========================\n",
      "Match: 192\n",
      "Best Match: 94\n",
      "banana\n",
      "========================\n",
      "Match: 294\n",
      "Best Match: 192\n",
      "orange\n",
      "========================\n"
     ]
    }
   ],
   "source": [
    "# Specify the directory containing the files you want to rename\n",
    "directory = './test_data'\n",
    "\n",
    "# List all files in the directory\n",
    "files = os.listdir(directory)\n",
    "# i=1\n",
    "# Iterate through each file\n",
    "for folder in files:\n",
    "    # print(folder)\n",
    "    sub_directory = './test_data/'+folder\n",
    "    sub_files = os.listdir(sub_directory)\n",
    "    sub_files = sorted(sub_files, key=lambda x: int(re.search(r'\\d+', x).group()))\n",
    "\n",
    "    i = 0\n",
    "    for filename in sub_files:\n",
    "        print('Loop',i+1)\n",
    "        # print(filename)\n",
    "        test_image = cv2.imread(sub_directory+'/'+filename, cv2.IMREAD_GRAYSCALE)\n",
    "        # plt.imshow(test_image)\n",
    "        # fruit_label = \n",
    "        classify_fruit(test_image)\n",
    "        break\n",
    "    break\n",
    "        # print('Predicted label for '+ filename +' = '+fruit_label)"
   ]
  }
 ],
 "metadata": {
  "kernelspec": {
   "display_name": "py310",
   "language": "python",
   "name": "python3"
  },
  "language_info": {
   "codemirror_mode": {
    "name": "ipython",
    "version": 3
   },
   "file_extension": ".py",
   "mimetype": "text/x-python",
   "name": "python",
   "nbconvert_exporter": "python",
   "pygments_lexer": "ipython3",
   "version": "3.10.13"
  }
 },
 "nbformat": 4,
 "nbformat_minor": 2
}
