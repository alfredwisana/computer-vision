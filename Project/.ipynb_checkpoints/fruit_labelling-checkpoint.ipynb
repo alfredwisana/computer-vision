{
 "cells": [
  {
   "cell_type": "code",
   "execution_count": null,
   "metadata": {},
   "outputs": [],
   "source": [
    "import cv2\n",
    "import os\n",
    "import re\n",
    "import numpy as np\n",
    "import matplotlib.pyplot as plt"
   ]
  },
  {
   "cell_type": "code",
   "execution_count": null,
   "metadata": {},
   "outputs": [],
   "source": [
    "def label_fruit_image(fruit_image_path, reference_images):\n",
    "\n",
    "  fruit_image = cv2.imread(fruit_image_path, cv2.IMREAD_GRAYSCALE)\n",
    "  best_match_count = 0\n",
    "  fruit_label = \"Unknown\"\n",
    "\n",
    "  for fruit_name, reference_path in reference_images.items():\n",
    "    reference_image = cv2.imread(reference_path, cv2.IMREAD_GRAYSCALE)\n",
    "\n",
    "    \n",
    "    orb = cv2.ORB_create()\n",
    "\n",
    "    # brief = cv2.xfeatures2d.BriefDescriptorExtractor_create()\n",
    "\n",
    "    train_keypoints,train_descriptor = orb.detectAndCompute(reference_image, None)\n",
    "    test_keypoints,test_descriptor = orb.detectAndCompute(fruit_image, None)\n",
    "\n",
    "\n",
    "    # test_keypoint, test_descriptors = brief.compute(fruit_image, test_keypoint)\n",
    "    # train_keypoints, train_descriptors = brief.compute(reference_image, train_keypoints)\n",
    "\n",
    "    # match_threshold = 0.5\n",
    "    bf = cv2.BFMatcher(cv2.NORM_HAMMING, crossCheck=True)\n",
    "    matches = bf.match(test_descriptor, train_descriptor)\n",
    "    matches =  sorted(matches, key=lambda x:x.distance)[:50]  # Keep only top 50 matches\n",
    "    # good_matches = [m for m in matches if m.distance < match_threshold]\n",
    "\n",
    "    match_count = len(matches)\n",
    "    if match_count > best_match_count:\n",
    "      best_match_count = match_count\n",
    "      fruit_label = fruit_name\n",
    "\n",
    "  return fruit_label"
   ]
  },
  {
   "cell_type": "code",
   "execution_count": null,
   "metadata": {},
   "outputs": [],
   "source": [
    "train_image = {\n",
    "    \"apple\": \"./train_data/apple.png\",\n",
    "    \"banana\": \"./train_data/banana.png\",\n",
    "    \"orange\": \"./train_data/orange.png\"\n",
    "}"
   ]
  },
  {
   "cell_type": "code",
   "execution_count": null,
   "metadata": {},
   "outputs": [],
   "source": [
    "# Specify the directory containing the files you want to rename\n",
    "directory = './test_data'\n",
    "\n",
    "# List all files in the directory\n",
    "files = os.listdir(directory)\n",
    "# i=1\n",
    "# Iterate through each file\n",
    "for folder in files:\n",
    "    # print(folder)\n",
    "    sub_directory = './test_data/'+folder\n",
    "    sub_files = os.listdir(sub_directory)\n",
    "    sub_files = sorted(sub_files, key=lambda x: int(re.search(r'\\d+', x).group()))\n",
    "\n",
    "    for filename in sub_files:\n",
    "        \n",
    "        path = sub_directory+'/'+filename\n",
    "\n",
    "        label = label_fruit_image(path, train_image)\n",
    "\n",
    "        print('Label for ', filename, '= ',label)\n",
    "    \n",
    "    print('==========================================')\n",
    "        "
   ]
  },
  {
   "cell_type": "code",
   "execution_count": null,
   "metadata": {},
   "outputs": [],
   "source": [
    "# Specify the directory containing the files you want to rename\n",
    "directory = './train_data'\n",
    "\n",
    "# List all files in the directory\n",
    "files = os.listdir(directory)\n",
    "\n",
    "for folder in files:\n",
    "    # Check if it's a directory and doesn't have a file extension (like .png or .jpg)\n",
    "    if os.path.isdir(os.path.join(directory, folder)) and not any(\n",
    "        ext in folder for ext in [\".png\", \".jpg\", \".jpeg\"]\n",
    "    ):\n",
    "        sub_directory = os.path.join(directory, folder)  # Use os.path.join for safety\n",
    "        sub_files = os.listdir(sub_directory)\n",
    "        sub_files = sorted(sub_files, key=lambda x: int(re.search(r'\\d+', x).group()))\n",
    "\n",
    "        for filename in sub_files:\n",
    "            path = os.path.join(sub_directory, filename)\n",
    "            label = label_fruit_image(path, train_image)  # Assuming label_fruit_image is defined\n",
    "            print('Label for ', filename, '= ', label)\n",
    "    print(\"===============================================\")"
   ]
  }
 ],
 "metadata": {
  "kernelspec": {
   "display_name": "py310",
   "language": "python",
   "name": "python3"
  },
  "language_info": {
   "codemirror_mode": {
    "name": "ipython",
    "version": 3
   },
   "file_extension": ".py",
   "mimetype": "text/x-python",
   "name": "python",
   "nbconvert_exporter": "python",
   "pygments_lexer": "ipython3",
   "version": "3.10.13"
  }
 },
 "nbformat": 4,
 "nbformat_minor": 2
}
