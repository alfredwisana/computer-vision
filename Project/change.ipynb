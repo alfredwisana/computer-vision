{
 "cells": [
  {
   "cell_type": "code",
   "execution_count": 4,
   "metadata": {},
   "outputs": [],
   "source": [
    "import os\n",
    "\n",
    "# Specify the directory containing the files you want to rename\n",
    "directory = './freshbanana'\n",
    "\n",
    "# List all files in the directory\n",
    "files = os.listdir(directory)\n",
    "\n",
    "i=1\n",
    "# Iterate through each file\n",
    "for filename in files:\n",
    "    \n",
    "    # Construct the new filename (for example, appending \"_new\" to the original filename)\n",
    "    new_filename = \"test_banana\"+str(i)+\".png\"\n",
    "    \n",
    "    # Construct the full paths for both the original and new filenames\n",
    "    old_path = os.path.join(directory, filename)\n",
    "    new_path = os.path.join(directory, new_filename)\n",
    "    \n",
    "    # Rename the file\n",
    "    os.rename(old_path, new_path)\n",
    "    i+=1\n"
   ]
  }
 ],
 "metadata": {
  "kernelspec": {
   "display_name": "py310",
   "language": "python",
   "name": "python3"
  },
  "language_info": {
   "codemirror_mode": {
    "name": "ipython",
    "version": 3
   },
   "file_extension": ".py",
   "mimetype": "text/x-python",
   "name": "python",
   "nbconvert_exporter": "python",
   "pygments_lexer": "ipython3",
   "version": "3.10.13"
  }
 },
 "nbformat": 4,
 "nbformat_minor": 2
}
