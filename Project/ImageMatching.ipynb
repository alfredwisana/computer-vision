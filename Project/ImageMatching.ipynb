{
 "cells": [
  {
   "cell_type": "code",
   "execution_count": 29,
   "metadata": {},
   "outputs": [],
   "source": [
    "import cv2\n",
    "import numpy as np\n",
    "\n",
    "def match_images(train_image, test_image):\n",
    "    # Initialize ORB detector\n",
    "\n",
    "\n",
    "    # star = cv2.xfeatures2d.StarDetector_create()\n",
    "    # fast = cv2.FastFeatureDetector_create()\n",
    "    orb = cv2.ORB_create()\n",
    "\n",
    "    # Initiate BRIEF extractor \n",
    "    brief = cv2.xfeatures2d.BriefDescriptorExtractor_create()\n",
    "    \n",
    "    # find the keypoints with STAR\n",
    "\n",
    "    train_keypoints1,train_descriptor1 = orb.detectAndCompute(train_image, None)\n",
    "    test_keypoints1,test_descriptor1 = orb.detectAndCompute(test_image, None)\n",
    "    \n",
    "    # compute the descriptors with BRIEF\n",
    "    train_keypoints, train_descriptor = brief.compute(train_image, train_keypoints1)\n",
    "    test_keypoints, test_descriptor = brief.compute(test_image, test_keypoints1)   \n",
    "\n",
    "    # Create a Brute Force Matcher\n",
    "    bf = cv2.BFMatcher(cv2.NORM_HAMMING, crossCheck=True)\n",
    "\n",
    "    # Match descriptors\n",
    "    matches = bf.match(train_descriptor, test_descriptor)\n",
    "    \n",
    "    matches = sorted(matches, key=lambda x: x.distance)\n",
    "\n",
    "  \n",
    "    similarity_score = len(matches)\n",
    "\n",
    "    return similarity_score\n"
   ]
  },
  {
   "cell_type": "code",
   "execution_count": 34,
   "metadata": {},
   "outputs": [
    {
     "name": "stdout",
     "output_type": "stream",
     "text": [
      "27\n",
      "The images depict different fruits.\n"
     ]
    }
   ],
   "source": [
    "# Load the banana images\n",
    "train_image = cv2.imread('train_banana.png', cv2.IMREAD_GRAYSCALE)\n",
    "test_image = cv2.imread('train_tomato.png', cv2.IMREAD_GRAYSCALE)\n",
    "\n",
    "# Match the images\n",
    "similarity_score = match_images(train_image, test_image)\n",
    "\n",
    "# Define a threshold for similarity score\n",
    "threshold = 50\n",
    "\n",
    "print(similarity_score)\n",
    "# Determine if the images depict the same fruit or different fruits\n",
    "if similarity_score >= threshold:\n",
    "    print(\"The images depict the same fruit.\")\n",
    "else:\n",
    "    print(\"The images depict different fruits.\")"
   ]
  },
  {
   "cell_type": "code",
   "execution_count": 31,
   "metadata": {},
   "outputs": [],
   "source": [
    "fruits = [\"apple\", \"banana\", \"tomato\"]\n",
    "\n",
    "def classify_fruit(image):\n",
    "  \n",
    "  fast = cv2.FastFeatureDetector_create() \n",
    "  brief = cv2.xfeatures2d.BriefDescriptorExtractor_create()\n",
    "  # Detect keypoints and compute descriptors for both image and reference images\n",
    "  test_keypoints = fast.detect(image, None)\n",
    "  test_keypoints, test_descriptors = brief.compute(image, test_keypoints)\n",
    "\n",
    "  # Define reference features for each fruit class (manually create or load pre-computed)\n",
    "  reference_features = {}\n",
    "  for fruit in fruits:\n",
    "    # Load reference image for the fruit class (replace with your image loading logic)\n",
    "    train_image = cv2.imread(f\"train_{fruit}.png\", cv2.IMREAD_GRAYSCALE)\n",
    "    # train_image_gray = cv2.cvtColor(train_image, cv2.COLOR_BGR2GRAY)\n",
    "\n",
    "    train_keypoints = fast.detect(image, None)\n",
    "    train_keypoints, train_descriptors = brief.compute(train_image, train_keypoints)\n",
    "    reference_features[fruit] = train_descriptors\n",
    "\n",
    "  # Matching with Brute-Force Matcher and Hamming distance\n",
    "  bf = cv2.BFMatcher(cv2.NORM_HAMMING)\n",
    "  best_matches = []\n",
    "  best_fruit = None\n",
    "\n",
    "  for fruit, train_descriptors in reference_features.items():\n",
    "    matches = bf.match(train_descriptors, test_descriptors)\n",
    "    matches = sorted(matches, key=lambda x: x.distance)\n",
    "\n",
    "    # Consider number of good matches for classification\n",
    "    if len(matches) > len(best_matches):\n",
    "      best_matches = matches\n",
    "      best_fruit = fruit\n",
    "\n",
    "  # Confidence threshold (optional)\n",
    "  return best_fruit"
   ]
  },
  {
   "cell_type": "code",
   "execution_count": 32,
   "metadata": {},
   "outputs": [
    {
     "name": "stdout",
     "output_type": "stream",
     "text": [
      "tomato\n"
     ]
    }
   ],
   "source": [
    "fruit_label = classify_fruit(test_image)\n",
    "print(fruit_label)"
   ]
  }
 ],
 "metadata": {
  "kernelspec": {
   "display_name": "Python 3",
   "language": "python",
   "name": "python3"
  },
  "language_info": {
   "codemirror_mode": {
    "name": "ipython",
    "version": 3
   },
   "file_extension": ".py",
   "mimetype": "text/x-python",
   "name": "python",
   "nbconvert_exporter": "python",
   "pygments_lexer": "ipython3",
   "version": "3.10.13"
  }
 },
 "nbformat": 4,
 "nbformat_minor": 2
}
