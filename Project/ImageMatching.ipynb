{
 "cells": [
  {
   "cell_type": "code",
   "execution_count": 87,
   "metadata": {},
   "outputs": [],
   "source": [
    "import cv2\n",
    "import numpy as np\n",
    "\n",
    "def match_images(train_image, test_image):\n",
    "\n",
    "    star = cv2.xfeatures2d.StarDetector_create()\n",
    "    fast = cv2.FastFeatureDetector_create()\n",
    "    orb = cv2.ORB_create()\n",
    "    sift = cv2.SIFT_create()\n",
    "\n",
    "\n",
    "    # Initiate BRIEF extractor \n",
    "    brief = cv2.xfeatures2d.BriefDescriptorExtractor_create()\n",
    "    \n",
    "    # find the keypoints with STAR\n",
    "\n",
    "    # train_keypoints1 = fast.detect(train_image, None)\n",
    "    # test_keypoints1 = fast.detect(test_image, None)\n",
    "\n",
    "    # train_keypoints1 = star.detect(train_image, None)\n",
    "    # test_keypoints1 = star.detect(test_image, None)\n",
    "\n",
    "    # train_keypoints1 = sift.detect(train_image, None)\n",
    "    # test_keypoints1 = sift.detect(test_image, None)\n",
    "    \n",
    "    train_keypoints1,train_descriptor1 = orb.detectAndCompute(train_image, None)\n",
    "    test_keypoints1,test_descriptor1 = orb.detectAndCompute(test_image, None)\n",
    "    \n",
    "    # compute the descriptors with BRIEF\n",
    "    train_keypoints, train_descriptor = brief.compute(train_image, train_keypoints1)\n",
    "    test_keypoints, test_descriptor = brief.compute(test_image, test_keypoints1)   \n",
    "\n",
    "    # Create a Brute Force Matcher\n",
    "    bf = cv2.BFMatcher(cv2.NORM_HAMMING, crossCheck=True)\n",
    "\n",
    "    # Match descriptors\n",
    "    matches = bf.match(train_descriptor, test_descriptor)\n",
    "    \n",
    "    matches = sorted(matches, key=lambda x: x.distance)\n",
    "   \n",
    "    similarity_score = len(matches)\n",
    "\n",
    "    return similarity_score\n"
   ]
  },
  {
   "cell_type": "code",
   "execution_count": 88,
   "metadata": {},
   "outputs": [
    {
     "ename": "error",
     "evalue": "OpenCV(4.9.0) /io/opencv/modules/core/src/batch_distance.cpp:274: error: (-215:Assertion failed) type == src2.type() && src1.cols == src2.cols && (type == CV_32F || type == CV_8U) in function 'batchDistance'\n",
     "output_type": "error",
     "traceback": [
      "\u001b[0;31m---------------------------------------------------------------------------\u001b[0m",
      "\u001b[0;31merror\u001b[0m                                     Traceback (most recent call last)",
      "Cell \u001b[0;32mIn[88], line 10\u001b[0m\n\u001b[1;32m      7\u001b[0m test_image \u001b[38;5;241m=\u001b[39m cv2\u001b[38;5;241m.\u001b[39mpyrDown(test_image)\n\u001b[1;32m      9\u001b[0m \u001b[38;5;66;03m# Match the images\u001b[39;00m\n\u001b[0;32m---> 10\u001b[0m similarity_score \u001b[38;5;241m=\u001b[39m \u001b[43mmatch_images\u001b[49m\u001b[43m(\u001b[49m\u001b[43mtrain_image\u001b[49m\u001b[43m,\u001b[49m\u001b[43m \u001b[49m\u001b[43mtest_image\u001b[49m\u001b[43m)\u001b[49m\n\u001b[1;32m     12\u001b[0m \u001b[38;5;66;03m# Define a threshold for similarity score\u001b[39;00m\n\u001b[1;32m     13\u001b[0m threshold \u001b[38;5;241m=\u001b[39m \u001b[38;5;241m35\u001b[39m\n",
      "Cell \u001b[0;32mIn[87], line 37\u001b[0m, in \u001b[0;36mmatch_images\u001b[0;34m(train_image, test_image)\u001b[0m\n\u001b[1;32m     34\u001b[0m bf \u001b[38;5;241m=\u001b[39m cv2\u001b[38;5;241m.\u001b[39mBFMatcher(cv2\u001b[38;5;241m.\u001b[39mNORM_HAMMING, crossCheck\u001b[38;5;241m=\u001b[39m\u001b[38;5;28;01mTrue\u001b[39;00m)\n\u001b[1;32m     36\u001b[0m \u001b[38;5;66;03m# Match descriptors\u001b[39;00m\n\u001b[0;32m---> 37\u001b[0m matches \u001b[38;5;241m=\u001b[39m \u001b[43mbf\u001b[49m\u001b[38;5;241;43m.\u001b[39;49m\u001b[43mmatch\u001b[49m\u001b[43m(\u001b[49m\u001b[43mtrain_descriptor\u001b[49m\u001b[43m,\u001b[49m\u001b[43m \u001b[49m\u001b[43mtest_descriptor\u001b[49m\u001b[43m)\u001b[49m\n\u001b[1;32m     39\u001b[0m matches \u001b[38;5;241m=\u001b[39m \u001b[38;5;28msorted\u001b[39m(matches, key\u001b[38;5;241m=\u001b[39m\u001b[38;5;28;01mlambda\u001b[39;00m x: x\u001b[38;5;241m.\u001b[39mdistance)\n\u001b[1;32m     41\u001b[0m similarity_score \u001b[38;5;241m=\u001b[39m \u001b[38;5;28mlen\u001b[39m(matches)\n",
      "\u001b[0;31merror\u001b[0m: OpenCV(4.9.0) /io/opencv/modules/core/src/batch_distance.cpp:274: error: (-215:Assertion failed) type == src2.type() && src1.cols == src2.cols && (type == CV_32F || type == CV_8U) in function 'batchDistance'\n"
     ]
    }
   ],
   "source": [
    "# Load the banana images\n",
    "train_image = cv2.imread('train_banana.png', cv2.IMREAD_GRAYSCALE)\n",
    "train_image = cv2.pyrDown(train_image)\n",
    "\n",
    "test_image = cv2.imread('test_data/test_apple2.png', cv2.IMREAD_GRAYSCALE)\n",
    "# test_image = ndimage.rotate(test_image, 45)\n",
    "test_image = cv2.pyrDown(test_image)\n",
    "\n",
    "# Match the images\n",
    "similarity_score = match_images(train_image, test_image)\n",
    "\n",
    "# Define a threshold for similarity score\n",
    "threshold = 35\n",
    "\n",
    "print(similarity_score)\n",
    "# Determine if the images depict the same fruit or different fruits\n",
    "if similarity_score >= threshold:\n",
    "    print(\"The images depict the same fruit.\")\n",
    "else:\n",
    "    print(\"The images depict different fruits.\")"
   ]
  }
 ],
 "metadata": {
  "kernelspec": {
   "display_name": "Python 3",
   "language": "python",
   "name": "python3"
  },
  "language_info": {
   "codemirror_mode": {
    "name": "ipython",
    "version": 3
   },
   "file_extension": ".py",
   "mimetype": "text/x-python",
   "name": "python",
   "nbconvert_exporter": "python",
   "pygments_lexer": "ipython3",
   "version": "3.10.13"
  }
 },
 "nbformat": 4,
 "nbformat_minor": 2
}
