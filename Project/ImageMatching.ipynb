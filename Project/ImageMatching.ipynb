{
 "cells": [
  {
   "cell_type": "code",
   "execution_count": 64,
   "metadata": {},
   "outputs": [],
   "source": [
    "import cv2\n",
    "import numpy as np\n",
    "\n",
    "def match_images(train_image, test_image):\n",
    "    # Initialize ORB detector\n",
    "\n",
    "\n",
    "    # star = cv2.xfeatures2d.StarDetector_create()\n",
    "    fast = cv2.FastFeatureDetector_create() \n",
    "\n",
    "    # Initiate BRIEF extractor \n",
    "    brief = cv2.xfeatures2d.BriefDescriptorExtractor_create()\n",
    "    \n",
    "    # find the keypoints with STAR\n",
    "\n",
    "    train_keypoints = fast.detect(train_image, None)\n",
    "    test_keypoints = fast.detect(test_image, None)\n",
    "    \n",
    "    # compute the descriptors with BRIEF\n",
    "    train_keypoints, train_descriptor = brief.compute(train_image, train_keypoints)\n",
    "    test_keypoints, test_descriptor = brief.compute(test_image, test_keypoints)   \n",
    "\n",
    "    # Create a Brute Force Matcher\n",
    "    bf = cv2.BFMatcher(cv2.NORM_HAMMING)\n",
    "\n",
    "    # Match descriptors\n",
    "    matches = bf.match(train_descriptor, test_descriptor)\n",
    "    \n",
    "    matches = sorted(matches, key=lambda x: x.distance)\n",
    "\n",
    "  # Convert keypoints to point format for RANSAC\n",
    "    src_pts = np.float32([train_keypoints[m.queryIdx].pt for m in matches]).reshape(-1, 1, 2)\n",
    "    dst_pts = np.float32([test_keypoints[m.trainIdx].pt for m in matches]).reshape(-1, 1, 2)\n",
    "\n",
    "  # RANSAC for outlier removal\n",
    "    model, inliers = cv2.findHomography(src_pts, dst_pts, cv2.RANSAC, 5.0)\n",
    "\n",
    "  # Count the inliers (good matches)\n",
    "    # num_inliers = len(inliers)\n",
    "    similarity_score = len(inliers)\n",
    "\n",
    "    return similarity_score\n"
   ]
  },
  {
   "cell_type": "code",
   "execution_count": 65,
   "metadata": {},
   "outputs": [
    {
     "name": "stdout",
     "output_type": "stream",
     "text": [
      "325\n",
      "The images depict the same fruit.\n"
     ]
    },
    {
     "name": "stderr",
     "output_type": "stream",
     "text": [
      "libpng warning: iCCP: known incorrect sRGB profile\n"
     ]
    }
   ],
   "source": [
    "# Load the banana images\n",
    "train_image = cv2.imread('train_banana.png', cv2.IMREAD_GRAYSCALE)\n",
    "test_image = cv2.imread('test_banana.png', cv2.IMREAD_GRAYSCALE)\n",
    "\n",
    "# Match the images\n",
    "similarity_score = match_images(train_image, test_image)\n",
    "\n",
    "# Define a threshold for similarity score\n",
    "threshold = 50\n",
    "\n",
    "print(similarity_score)\n",
    "# Determine if the images depict the same fruit or different fruits\n",
    "if similarity_score >= threshold:\n",
    "    print(\"The images depict the same fruit.\")\n",
    "else:\n",
    "    print(\"The images depict different fruits.\")"
   ]
  },
  {
   "cell_type": "code",
   "execution_count": 66,
   "metadata": {},
   "outputs": [],
   "source": [
    "fruits = [\"apple\", \"banana\", \"tomato\"]\n",
    "def classify_fruit(image):\n",
    "  \n",
    "  fast = cv2.FastFeatureDetector_create() \n",
    "  brief = cv2.xfeatures2d.BriefDescriptorExtractor_create()\n",
    "  # Detect keypoints and compute descriptors for both image and reference images\n",
    "  test_keypoints = fast.detect(image, None)\n",
    "  test_keypoints, test_descriptors = brief.compute(image, test_keypoints)\n",
    "\n",
    "  # Define reference features for each fruit class (manually create or load pre-computed)\n",
    "  reference_features = {}\n",
    "  for fruit in fruits:\n",
    "    # Load reference image for the fruit class (replace with your image loading logic)\n",
    "    train_image = cv2.imread(f\"train_{fruit}.png\", cv2.IMREAD_GRAYSCALE)\n",
    "    # train_image_gray = cv2.cvtColor(train_image, cv2.COLOR_BGR2GRAY)\n",
    "\n",
    "    train_keypoints = fast.detect(image, None)\n",
    "    train_keypoints, train_descriptors = brief.compute(train_image, train_keypoints)\n",
    "\n",
    "    # reference_kp, reference_des = orb.detectAndCompute(reference_gray, None)\n",
    "    reference_features[fruit] = train_descriptors\n",
    "\n",
    "  # Matching with Brute-Force Matcher and Hamming distance\n",
    "  bf = cv2.BFMatcher(cv2.NORM_HAMMING)\n",
    "  best_matches = []\n",
    "  best_fruit = None\n",
    "\n",
    "  for fruit, train_descriptors in reference_features.items():\n",
    "    matches = bf.knnMatch(test_descriptors, train_descriptors, k=2)\n",
    "    good_matches = [m for m,n in matches if m.distance < 0.7*n.distance]  # Adjust ratio based on descriptor\n",
    "\n",
    "    # Consider number of good matches for classification\n",
    "    if len(good_matches) > len(best_matches):\n",
    "      best_matches = good_matches\n",
    "      best_fruit = fruit\n",
    "\n",
    "  # Confidence threshold (optional)\n",
    "  confidence_threshold = 0.5 * len(test_keypoints)  # Adjust threshold based on image complexity\n",
    "  if len(best_matches) / len(test_keypoints) > confidence_threshold:\n",
    "    return best_fruit\n",
    "  else:\n",
    "    return \"Unknown Fruit\""
   ]
  },
  {
   "cell_type": "code",
   "execution_count": 67,
   "metadata": {},
   "outputs": [
    {
     "ename": "error",
     "evalue": "OpenCV(4.9.0) /io/opencv/modules/core/src/batch_distance.cpp:274: error: (-215:Assertion failed) type == src2.type() && src1.cols == src2.cols && (type == CV_32F || type == CV_8U) in function 'batchDistance'\n",
     "output_type": "error",
     "traceback": [
      "\u001b[0;31m---------------------------------------------------------------------------\u001b[0m",
      "\u001b[0;31merror\u001b[0m                                     Traceback (most recent call last)",
      "Cell \u001b[0;32mIn[67], line 1\u001b[0m\n\u001b[0;32m----> 1\u001b[0m fruit_label \u001b[38;5;241m=\u001b[39m \u001b[43mclassify_fruit\u001b[49m\u001b[43m(\u001b[49m\u001b[43mtest_image\u001b[49m\u001b[43m)\u001b[49m\n\u001b[1;32m      2\u001b[0m \u001b[38;5;28mprint\u001b[39m(fruit_label)\n",
      "Cell \u001b[0;32mIn[66], line 29\u001b[0m, in \u001b[0;36mclassify_fruit\u001b[0;34m(image)\u001b[0m\n\u001b[1;32m     26\u001b[0m best_fruit \u001b[38;5;241m=\u001b[39m \u001b[38;5;28;01mNone\u001b[39;00m\n\u001b[1;32m     28\u001b[0m \u001b[38;5;28;01mfor\u001b[39;00m fruit, train_descriptors \u001b[38;5;129;01min\u001b[39;00m reference_features\u001b[38;5;241m.\u001b[39mitems():\n\u001b[0;32m---> 29\u001b[0m   matches \u001b[38;5;241m=\u001b[39m \u001b[43mbf\u001b[49m\u001b[38;5;241;43m.\u001b[39;49m\u001b[43mknnMatch\u001b[49m\u001b[43m(\u001b[49m\u001b[43mtest_descriptors\u001b[49m\u001b[43m,\u001b[49m\u001b[43m \u001b[49m\u001b[43mtrain_descriptors\u001b[49m\u001b[43m,\u001b[49m\u001b[43m \u001b[49m\u001b[43mk\u001b[49m\u001b[38;5;241;43m=\u001b[39;49m\u001b[38;5;241;43m2\u001b[39;49m\u001b[43m)\u001b[49m\n\u001b[1;32m     30\u001b[0m   good_matches \u001b[38;5;241m=\u001b[39m [m \u001b[38;5;28;01mfor\u001b[39;00m m,n \u001b[38;5;129;01min\u001b[39;00m matches \u001b[38;5;28;01mif\u001b[39;00m m\u001b[38;5;241m.\u001b[39mdistance \u001b[38;5;241m<\u001b[39m \u001b[38;5;241m0.7\u001b[39m\u001b[38;5;241m*\u001b[39mn\u001b[38;5;241m.\u001b[39mdistance]  \u001b[38;5;66;03m# Adjust ratio based on descriptor\u001b[39;00m\n\u001b[1;32m     32\u001b[0m   \u001b[38;5;66;03m# Consider number of good matches for classification\u001b[39;00m\n",
      "\u001b[0;31merror\u001b[0m: OpenCV(4.9.0) /io/opencv/modules/core/src/batch_distance.cpp:274: error: (-215:Assertion failed) type == src2.type() && src1.cols == src2.cols && (type == CV_32F || type == CV_8U) in function 'batchDistance'\n"
     ]
    }
   ],
   "source": [
    "fruit_label = classify_fruit(test_image)\n",
    "print(fruit_label)"
   ]
  }
 ],
 "metadata": {
  "kernelspec": {
   "display_name": "Python 3",
   "language": "python",
   "name": "python3"
  },
  "language_info": {
   "codemirror_mode": {
    "name": "ipython",
    "version": 3
   },
   "file_extension": ".py",
   "mimetype": "text/x-python",
   "name": "python",
   "nbconvert_exporter": "python",
   "pygments_lexer": "ipython3",
   "version": "3.11.8"
  }
 },
 "nbformat": 4,
 "nbformat_minor": 2
}
