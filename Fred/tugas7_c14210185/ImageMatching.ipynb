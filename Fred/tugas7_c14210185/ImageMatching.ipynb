{
 "cells": [
  {
   "cell_type": "code",
   "execution_count": 3,
   "metadata": {},
   "outputs": [
    {
     "name": "stdout",
     "output_type": "stream",
     "text": [
      "The images depict different fruits.\n"
     ]
    }
   ],
   "source": [
    "import cv2\n",
    "\n",
    "def match_images(img1, img2):\n",
    "    # Initialize ORB detector\n",
    "    orb = cv2.ORB_create()\n",
    "\n",
    "    # Find keypoints and descriptors in the images\n",
    "    kp1, des1 = orb.detectAndCompute(img1, None)\n",
    "    kp2, des2 = orb.detectAndCompute(img2, None)\n",
    "\n",
    "    # Create a Brute Force Matcher\n",
    "    bf = cv2.BFMatcher(cv2.NORM_HAMMING, crossCheck=True)\n",
    "\n",
    "    # Match descriptors\n",
    "    matches = bf.match(des1, des2)\n",
    "\n",
    "    # Sort matches by their distances\n",
    "    matches = sorted(matches, key=lambda x: x.distance)\n",
    "\n",
    "    # Compute similarity score based on the number of matches\n",
    "    similarity_score = len(matches)\n",
    "\n",
    "    return similarity_score\n",
    "\n",
    "# Load the banana images\n",
    "banana_img1 = cv2.imread('banana1.jpeg', cv2.IMREAD_GRAYSCALE)\n",
    "banana_img2 = cv2.imread('apple.jpeg', cv2.IMREAD_GRAYSCALE)\n",
    "\n",
    "# Match the images\n",
    "similarity_score = match_images(banana_img1, banana_img2)\n",
    "\n",
    "# Define a threshold for similarity score\n",
    "threshold = 50\n",
    "\n",
    "# Determine if the images depict the same fruit or different fruits\n",
    "if similarity_score >= threshold:\n",
    "    print(\"The images depict the same fruit.\")\n",
    "else:\n",
    "    print(\"The images depict different fruits.\")\n"
   ]
  }
 ],
 "metadata": {
  "kernelspec": {
   "display_name": "Python 3",
   "language": "python",
   "name": "python3"
  },
  "language_info": {
   "codemirror_mode": {
    "name": "ipython",
    "version": 3
   },
   "file_extension": ".py",
   "mimetype": "text/x-python",
   "name": "python",
   "nbconvert_exporter": "python",
   "pygments_lexer": "ipython3",
   "version": "3.11.8"
  }
 },
 "nbformat": 4,
 "nbformat_minor": 2
}
