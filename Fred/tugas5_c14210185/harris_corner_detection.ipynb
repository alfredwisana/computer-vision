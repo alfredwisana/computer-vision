{
 "cells": [
  {
   "cell_type": "code",
   "execution_count": 87,
   "metadata": {},
   "outputs": [
    {
     "data": {
      "image/png": "[encoded data removed]",
      "text/plain": [
       "<Figure size 640x480 with 1 Axes>"
      ]
     },
     "metadata": {},
     "output_type": "display_data"
    },
    {
     "name": "stdout",
     "output_type": "stream",
     "text": [
      "Total corners detected: 92\n"
     ]
    }
   ],
   "source": [
    "import cv2 \n",
    "import numpy as np \n",
    "import matplotlib.pyplot as plt\n",
    "\n",
    "# Load the input image\n",
    "image = cv2.imread('rec.png') \n",
    "\n",
    "# Convert the input image to grayscale\n",
    "operatedImage = cv2.cvtColor(image, cv2.COLOR_BGR2GRAY) \n",
    "\n",
    "# Convert the datatype of operatedImage to float32\n",
    "operatedImage = np.float32(operatedImage) \n",
    "\n",
    "# Apply the cv2.cornerHarris method \n",
    "dest = cv2.cornerHarris(operatedImage, 2, 5, 0.07) \n",
    "\n",
    "# Dilate the corners\n",
    "dest = cv2.dilate(dest, None) \n",
    "\n",
    "# Mark the corners on the original image\n",
    "image[dest > 0.01 * dest.max()]=[0, 0, 255] \n",
    "\n",
    "# Count the number of corners\n",
    "corner_count = np.sum(dest > 0.01 * dest.max())\n",
    "\n",
    "# Display the image with corners using Matplotlib\n",
    "plt.imshow(cv2.cvtColor(image, cv2.COLOR_BGR2RGB))\n",
    "plt.title('Image')\n",
    "plt.axis('off')\n",
    "plt.show()\n",
    "\n",
    "# Print the total number of corners detected\n",
    "print(\"Total corners detected:\", corner_count)\n"
   ]
  },
  {
   "cell_type": "markdown",
   "metadata": {},
   "source": [
    "Adjusted K"
   ]
  },
  {
   "cell_type": "code",
   "execution_count": 166,
   "metadata": {},
   "outputs": [
    {
     "data": {
      "image/png": "[encoded data removed]",
      "text/plain": [
       "<Figure size 640x480 with 2 Axes>"
      ]
     },
     "metadata": {},
     "output_type": "display_data"
    },
    {
     "name": "stdout",
     "output_type": "stream",
     "text": [
      "Total corners detected in original image: 36\n",
      "Total corners detected in rotated image: 9\n",
      "\n",
      "Corner coordinates in original image:\n",
      "[40 60]\n",
      "[40 61]\n",
      "[40 62]\n",
      "[ 40 858]\n",
      "[ 40 859]\n",
      "[ 40 860]\n",
      "[41 60]\n",
      "[41 61]\n",
      "[41 62]\n",
      "[ 41 858]\n",
      "[ 41 859]\n",
      "[ 41 860]\n",
      "[42 60]\n",
      "[42 61]\n",
      "[42 62]\n",
      "[ 42 858]\n",
      "[ 42 859]\n",
      "[ 42 860]\n",
      "[469  60]\n",
      "[469  61]\n",
      "[469  62]\n",
      "[469 858]\n",
      "[469 859]\n",
      "[469 860]\n",
      "[470  60]\n",
      "[470  61]\n",
      "[470  62]\n",
      "[470 858]\n",
      "[470 859]\n",
      "[470 860]\n",
      "[471  60]\n",
      "[471  61]\n",
      "[471  62]\n",
      "[471 858]\n",
      "[471 859]\n",
      "[471 860]\n",
      "\n",
      "Corner coordinates in rotated image:\n",
      "[389  17]\n",
      "[389  18]\n",
      "[389  19]\n",
      "[390  17]\n",
      "[390  18]\n",
      "[390  19]\n",
      "[391  17]\n",
      "[391  18]\n",
      "[391  19]\n"
     ]
    }
   ],
   "source": [
    "import cv2 \n",
    "import numpy as np \n",
    "import matplotlib.pyplot as plt\n",
    "\n",
    "# Function to rotate an image by a specified angle around its center without cropping\n",
    "def rotate_image(image, angle):\n",
    "    # Get image dimensions\n",
    "    height, width = image.shape[:2]\n",
    "    # Calculate the rotation matrix\n",
    "    rotation_matrix = cv2.getRotationMatrix2D((width / 2, height / 2), angle, 1)\n",
    "    # Apply the rotation to the image\n",
    "    rotated_image = cv2.warpAffine(image, rotation_matrix, (width, height), flags=cv2.INTER_LINEAR, borderMode=cv2.BORDER_REPLICATE)\n",
    "    return rotated_image\n",
    "\n",
    "# Load the input image\n",
    "image = cv2.imread('rec.png') \n",
    "\n",
    "# Convert the input image to grayscale\n",
    "operatedImage = cv2.cvtColor(image, cv2.COLOR_BGR2GRAY) \n",
    "\n",
    "# Convert the datatype of operatedImage to float32\n",
    "operatedImage = np.float32(operatedImage) \n",
    "\n",
    "# Apply the cv2.cornerHarris method with adjusted k parameter\n",
    "dest = cv2.cornerHarris(operatedImage, 2, 5, 0.1)  # Adjust the k parameter here\n",
    "\n",
    "# Dilate the corners\n",
    "dest = cv2.dilate(dest, None) \n",
    "\n",
    "# Find coordinates of detected corners in the original image\n",
    "corner_coordinates_original = np.argwhere(dest > 0.99 * dest.max())\n",
    "\n",
    "# Mark the corners on the original image\n",
    "image_with_corners = image.copy()\n",
    "image_with_corners[dest > 0.01 * dest.max()]=[0, 0, 255] \n",
    "\n",
    "# Rotate the image by 45 degrees around its center without cropping\n",
    "rotated_image = rotate_image(image, 45)\n",
    "\n",
    "# Convert the rotated image to grayscale\n",
    "rotated_operatedImage = cv2.cvtColor(rotated_image, cv2.COLOR_BGR2GRAY) \n",
    "\n",
    "# Convert the datatype of operatedImage to float32\n",
    "rotated_operatedImage = np.float32(rotated_operatedImage) \n",
    "\n",
    "# Apply the cv2.cornerHarris method with adjusted k parameter on rotated image\n",
    "dest_rotated = cv2.cornerHarris(rotated_operatedImage, 2, 5, 0.1)  # Adjust the k parameter here\n",
    "\n",
    "# Dilate the corners in the rotated image\n",
    "dest_rotated = cv2.dilate(dest_rotated, None) \n",
    "\n",
    "# Find coordinates of detected corners in the rotated image\n",
    "corner_coordinates_rotated = np.argwhere(dest_rotated > 0.99 * dest_rotated.max())\n",
    "\n",
    "# Mark the corners on the rotated image\n",
    "rotated_image_with_corners = rotated_image.copy()\n",
    "rotated_image_with_corners[dest_rotated > 0.01 * dest_rotated.max()]=[0, 0, 255] \n",
    "\n",
    "# Display the original image with detected corners\n",
    "plt.subplot(1, 2, 1)\n",
    "plt.imshow(cv2.cvtColor(image_with_corners, cv2.COLOR_BGR2RGB))\n",
    "plt.title('Original Image with Corners')\n",
    "plt.axis('off')\n",
    "\n",
    "# Display the rotated image with detected corners\n",
    "plt.subplot(1, 2, 2)\n",
    "plt.imshow(cv2.cvtColor(rotated_image_with_corners, cv2.COLOR_BGR2RGB))\n",
    "plt.title('Rotated Image with Corners')\n",
    "plt.axis('off')\n",
    "\n",
    "plt.show()\n",
    "\n",
    "# Print the total number of corners detected in both images\n",
    "print(\"Total corners detected in original image:\", len(corner_coordinates_original))\n",
    "print(\"Total corners detected in rotated image:\", len(corner_coordinates_rotated))\n",
    "\n",
    "# Print the coordinates of the detected corners in both images\n",
    "print(\"\\nCorner coordinates in original image:\")\n",
    "for corner in corner_coordinates_original:\n",
    "    print(corner)\n",
    "\n",
    "print(\"\\nCorner coordinates in rotated image:\")\n",
    "for corner in corner_coordinates_rotated:\n",
    "    print(corner)\n"
   ]
  },
  {
   "cell_type": "markdown",
   "metadata": {},
   "source": [
    "Shi-Tomasi"
   ]
  },
  {
   "cell_type": "code",
   "execution_count": 153,
   "metadata": {},
   "outputs": [
    {
     "name": "stderr",
     "output_type": "stream",
     "text": [
      "C:\\Users\\Asus\\AppData\\Local\\Temp\\ipykernel_14972\\3372320168.py:18: DeprecationWarning: `np.int0` is a deprecated alias for `np.intp`.  (Deprecated NumPy 1.24)\n",
      "  corners = np.int0(corners)\n"
     ]
    },
    {
     "data": {
      "image/png": "[encoded data removed]",
      "text/plain": [
       "<Figure size 640x480 with 1 Axes>"
      ]
     },
     "metadata": {},
     "output_type": "display_data"
    },
    {
     "name": "stdout",
     "output_type": "stream",
     "text": [
      "Total corners detected: 10\n"
     ]
    }
   ],
   "source": [
    "import cv2 \n",
    "import numpy as np \n",
    "import matplotlib.pyplot as plt\n",
    "\n",
    "# Load the input image\n",
    "image = cv2.imread('star2.jpg') \n",
    "\n",
    "# Convert the input image to grayscale\n",
    "gray_image = cv2.cvtColor(image, cv2.COLOR_BGR2GRAY) \n",
    "\n",
    "# Adjust the quality level threshold\n",
    "quality_level = 0.155  # Adjust this value to control the threshold\n",
    "\n",
    "# Detect corners using the Shi-Tomasi corner detector\n",
    "corners = cv2.goodFeaturesToTrack(gray_image, maxCorners=100, qualityLevel=quality_level, minDistance=10)\n",
    "\n",
    "# Convert corners to integers\n",
    "corners = np.int0(corners)\n",
    "\n",
    "# Draw circles around the detected corners\n",
    "for corner in corners:\n",
    "    x, y = corner.ravel()\n",
    "    cv2.circle(image, (x, y), 3, (0, 0, 255), -1)\n",
    "\n",
    "# Display the image with corners using Matplotlib\n",
    "plt.imshow(cv2.cvtColor(image, cv2.COLOR_BGR2RGB))\n",
    "plt.title('Image with Corners Detected')\n",
    "plt.axis('off')\n",
    "plt.show()\n",
    "\n",
    "# Print the total number of corners detected\n",
    "corner_count = len(corners)\n",
    "print(\"Total corners detected:\", corner_count)\n"
   ]
  }
 ],
 "metadata": {
  "kernelspec": {
   "display_name": "Python 3",
   "language": "python",
   "name": "python3"
  },
  "language_info": {
   "codemirror_mode": {
    "name": "ipython",
    "version": 3
   },
   "file_extension": ".py",
   "mimetype": "text/x-python",
   "name": "python",
   "nbconvert_exporter": "python",
   "pygments_lexer": "ipython3",
   "version": "3.11.8"
  }
 },
 "nbformat": 4,
 "nbformat_minor": 2
}
