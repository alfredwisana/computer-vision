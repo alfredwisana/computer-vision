{
 "cells": [
  {
   "cell_type": "code",
   "execution_count": 8,
   "metadata": {},
   "outputs": [
    {
     "name": "stdout",
     "output_type": "stream",
     "text": [
      "(100, 100, 3)\n"
     ]
    },
    {
     "ename": "AttributeError",
     "evalue": "module 'cv2.xphoto' has no attribute 'inpaint'",
     "output_type": "error",
     "traceback": [
      "\u001b[0;31m---------------------------------------------------------------------------\u001b[0m",
      "\u001b[0;31mAttributeError\u001b[0m                            Traceback (most recent call last)",
      "Cell \u001b[0;32mIn[8], line 24\u001b[0m\n\u001b[1;32m     21\u001b[0m distort \u001b[38;5;241m=\u001b[39m cv2\u001b[38;5;241m.\u001b[39mbitwise_and(img, img, mask\u001b[38;5;241m=\u001b[39mmask_inv)\n\u001b[1;32m     23\u001b[0m \u001b[38;5;66;03m# Inpaint the distorted region using FSR\u001b[39;00m\n\u001b[0;32m---> 24\u001b[0m restored2 \u001b[38;5;241m=\u001b[39m \u001b[43mcv2\u001b[49m\u001b[38;5;241;43m.\u001b[39;49m\u001b[43mxphoto\u001b[49m\u001b[38;5;241;43m.\u001b[39;49m\u001b[43minpaint\u001b[49m(src\u001b[38;5;241m=\u001b[39mdistort, mask\u001b[38;5;241m=\u001b[39mmask_inv, algorithmType\u001b[38;5;241m=\u001b[39mcv2\u001b[38;5;241m.\u001b[39mxphoto\u001b[38;5;241m.\u001b[39mINPAINT_FSR_BEST)\n\u001b[1;32m     25\u001b[0m restored1 \u001b[38;5;241m=\u001b[39m cv2\u001b[38;5;241m.\u001b[39mxphoto\u001b[38;5;241m.\u001b[39minpaint(src\u001b[38;5;241m=\u001b[39mdistort, mask\u001b[38;5;241m=\u001b[39mmask_inv, algorithmType\u001b[38;5;241m=\u001b[39mcv2\u001b[38;5;241m.\u001b[39mxphoto\u001b[38;5;241m.\u001b[39mINPAINT_FSR_BEST)\n\u001b[1;32m     27\u001b[0m \u001b[38;5;66;03m# restored1 = cv2.xphoto.inpaint(distort, mask_inv, algorithmType=cv2.xphoto.INPAINT_FSR_FAST)\u001b[39;00m\n\u001b[1;32m     28\u001b[0m \u001b[38;5;66;03m# restored2 = cv2.xphoto.inpaint(distort, mask_inv, algorithmType=cv2.xphoto.INPAINT_FSR_BEST)\u001b[39;00m\n\u001b[1;32m     29\u001b[0m \n\u001b[1;32m     30\u001b[0m \u001b[38;5;66;03m# Convert images to RGB for display with matplotlib\u001b[39;00m\n",
      "\u001b[0;31mAttributeError\u001b[0m: module 'cv2.xphoto' has no attribute 'inpaint'"
     ]
    }
   ],
   "source": [
    "import cv2\n",
    "import matplotlib.pyplot as plt\n",
    "\n",
    "# Read the images\n",
    "img = cv2.imread('cat.png')\n",
    "img = cv2.resize(img, None, fx=0.25, fy=0.25)\n",
    "print(img.shape)\n",
    "distorted_img = cv2.imread('cat_damaged.png')\n",
    "mask = cv2.imread('cat_mask.png',0)\n",
    "\n",
    "# Resize the mask to match the size of the image\n",
    "mask = cv2.resize(mask, (img.shape[1], img.shape[0]))\n",
    "\n",
    "# Threshold the mask to convert it to binary\n",
    "_, mask = cv2.threshold(mask, 128, 255, cv2.THRESH_BINARY)\n",
    "\n",
    "# Invert the mask\n",
    "mask_inv = cv2.bitwise_not(mask)\n",
    "\n",
    "# Apply the mask to the distorted image\n",
    "distort = cv2.bitwise_and(img, img, mask=mask_inv)\n",
    "\n",
    "# Inpaint the distorted region using FSR\n",
    "restored2 = cv2.xphoto.inpaint(src=distort, mask=mask_inv, algorithmType=cv2.xphoto.INPAINT_FSR_BEST)\n",
    "restored1 = cv2.xphoto.inpaint(src=distort, mask=mask_inv, algorithmType=cv2.xphoto.INPAINT_FSR_BEST)\n",
    "\n",
    "# restored1 = cv2.xphoto.inpaint(distort, mask_inv, algorithmType=cv2.xphoto.INPAINT_FSR_FAST)\n",
    "# restored2 = cv2.xphoto.inpaint(distort, mask_inv, algorithmType=cv2.xphoto.INPAINT_FSR_BEST)\n",
    "\n",
    "# Convert images to RGB for display with matplotlib\n",
    "img_rgb = cv2.cvtColor(img, cv2.COLOR_BGR2RGB)\n",
    "distort_rgb = cv2.cvtColor(distorted_img, cv2.COLOR_BGR2RGB)\n",
    "restored1_rgb = cv2.cvtColor(restored1, cv2.COLOR_BGR2RGB)\n",
    "restored2_rgb = cv2.cvtColor(restored2, cv2.COLOR_BGR2RGB)\n",
    "\n",
    "# Display the images\n",
    "plt.figure(figsize=(15, 20))\n",
    "plt.subplot(2, 3, 1)\n",
    "plt.imshow(img_rgb)\n",
    "plt.title('Original Image')\n",
    "plt.subplot(2, 3, 2)\n",
    "plt.imshow(distort_rgb)\n",
    "plt.title('Damaged Image')\n",
    "plt.subplot(2, 3, 5)\n",
    "plt.imshow(restored1_rgb)\n",
    "plt.title('Inpainting (Fast)')\n",
    "plt.subplot(2, 3, 6)\n",
    "plt.imshow(restored2_rgb)\n",
    "plt.title('Inpainting (Best)')\n",
    "plt.show()\n"
   ]
  },
  {
   "cell_type": "code",
   "execution_count": null,
   "metadata": {},
   "outputs": [],
   "source": []
  }
 ],
 "metadata": {
  "kernelspec": {
   "display_name": "py310",
   "language": "python",
   "name": "python3"
  },
  "language_info": {
   "codemirror_mode": {
    "name": "ipython",
    "version": 3
   },
   "file_extension": ".py",
   "mimetype": "text/x-python",
   "name": "python",
   "nbconvert_exporter": "python",
   "pygments_lexer": "ipython3",
   "version": "3.10.13"
  }
 },
 "nbformat": 4,
 "nbformat_minor": 2
}
