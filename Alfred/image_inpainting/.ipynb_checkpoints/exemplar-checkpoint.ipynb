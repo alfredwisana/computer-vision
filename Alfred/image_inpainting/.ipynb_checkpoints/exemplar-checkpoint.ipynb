{
 "cells": [
  {
   "cell_type": "code",
   "execution_count": 1,
   "metadata": {},
   "outputs": [],
   "source": [
    "import cv2\n",
    "import numpy as np\n",
    "\n",
    "def exemplar_inpainting(image, mask, patch_size=5):\n",
    "    # Create a copy of the image to preserve the original\n",
    "    inpainted_image = np.copy(image)\n",
    "\n",
    "    # Find damaged pixels in the mask\n",
    "    damaged_indices = np.where(mask != 255)\n",
    "\n",
    "    # Iterate over each damaged pixel\n",
    "    for y, x in zip(*damaged_indices):\n",
    "        # Define the patch region centered at the damaged pixel\n",
    "        top = max(0, y - patch_size)\n",
    "        bottom = min(image.shape[0] - 1, y + patch_size)\n",
    "        left = max(0, x - patch_size)\n",
    "        right = min(image.shape[1] - 1, x + patch_size)\n",
    "\n",
    "        # Extract the damaged patch\n",
    "        damaged_patch = inpainted_image[top:bottom, left:right]\n",
    "\n",
    "        # Find similar patches in the image\n",
    "        similarity_map = cv2.matchTemplate(image, damaged_patch, cv2.TM_CCOEFF_NORMED)\n",
    "\n",
    "        # Get the location of the most similar patch\n",
    "        min_val, max_val, min_loc, max_loc = cv2.minMaxLoc(similarity_map)\n",
    "\n",
    "        # Get the location of the top-left corner of the matched patch\n",
    "        match_top_left = max_loc\n",
    "\n",
    "        # Replace the damaged pixel with the corresponding pixel from the matched patch\n",
    "        inpainted_image[y, x] = image[match_top_left[1] + patch_size, match_top_left[0] + patch_size]\n",
    "\n",
    "    return inpainted_image\n",
    "\n",
    "# Example usage\n",
    "image = cv2.imread('cat_damaged.png')\n",
    "mask = cv2.imread('cat_mask.png', cv2.IMREAD_GRAYSCALE)\n",
    "\n",
    "# Perform exemplar-based inpainting\n",
    "inpainted_image = exemplar_inpainting(image, mask)\n",
    "\n",
    "\n"
   ]
  },
  {
   "cell_type": "code",
   "execution_count": null,
   "metadata": {},
   "outputs": [],
   "source": [
    "import matplotlib.pyplot as plt\n",
    "\n",
    "plt.figure(figsize=(15,15))\n",
    "\n",
    "plt.subplot(1,3,1)\n",
    "plt.imshow(cv2.cvtColor(image,cv2.COLOR_BGR2RGB))\n",
    "plt.title('Original Image')\n",
    "\n",
    "plt.subplot(1,3,2)\n",
    "plt.imshow(cv2.cvtColor(mask,cv2.COLOR_BGR2RGB))\n",
    "plt.title('Mask Image')\n",
    "\n",
    "\n",
    "plt.subplot(1,3,3)\n",
    "plt.imshow(cv2.cvtColor(inpainted_image,cv2.COLOR_BGR2RGB))\n",
    "plt.title('Inpainted  Image')\n",
    "\n",
    "plt.show()"
   ]
  }
 ],
 "metadata": {
  "kernelspec": {
   "display_name": "py310",
   "language": "python",
   "name": "python3"
  },
  "language_info": {
   "codemirror_mode": {
    "name": "ipython",
    "version": 3
   },
   "file_extension": ".py",
   "mimetype": "text/x-python",
   "name": "python",
   "nbconvert_exporter": "python",
   "pygments_lexer": "ipython3",
   "version": "3.10.13"
  }
 },
 "nbformat": 4,
 "nbformat_minor": 2
}
