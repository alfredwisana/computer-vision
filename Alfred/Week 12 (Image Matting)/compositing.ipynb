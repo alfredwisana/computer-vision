{
 "cells": [
  {
   "cell_type": "code",
   "execution_count": 8,
   "metadata": {},
   "outputs": [],
   "source": [
    "import cv2\n",
    "import numpy as np\n",
    "import matplotlib.pyplot as plt"
   ]
  },
  {
   "cell_type": "code",
   "execution_count": null,
   "metadata": {},
   "outputs": [],
   "source": [
    "def image_matting(object_image_path, background_image_path):\n",
    "    # Read the object image\n",
    "    object_image = cv2.imread(object_image_path)\n",
    "    object_image = cv2.cvtColor(object_image, cv2.COLOR_BGR2RGB)\n",
    "    \n",
    "    # Read the background image\n",
    "    background_image = cv2.imread(background_image_path)\n",
    "    background_image = cv2.cvtColor(background_image, cv2.COLOR_BGR2RGB)\n",
    "\n",
    "    # Resize the background image to match the object image size\n",
    "    background_image = cv2.resize(background_image, (object_image.shape[1], object_image.shape[0]))\n",
    "\n",
    "    # Convert object image to grayscale\n",
    "    gray = cv2.cvtColor(object_image, cv2.COLOR_RGB2GRAY)\n",
    "    \n",
    "    # Thresholding to get a binary mask\n",
    "    ret, binary_mask = cv2.threshold(gray, 240, 255, cv2.THRESH_BINARY)\n",
    "    \n",
    "    # Invert binary mask\n",
    "    binary_mask = cv2.bitwise_not(binary_mask)\n",
    "    \n",
    "    # Convert binary mask to alpha matte\n",
    "    alpha_matte = binary_mask.astype(np.float32) / 255.0\n",
    "    \n",
    "    # Composite object image and background image using alpha matte\n",
    "    result = np.zeros_like(object_image, dtype=np.uint8)\n",
    "    for i in range(3):\n",
    "        result[:,:,i] = alpha_matte * object_image[:,:,i] + (1 - alpha_matte) * background_image[:,:,i]\n",
    "    \n",
    "    return object_image, background_image, result"
   ]
  },
  {
   "cell_type": "code",
   "execution_count": 9,
   "metadata": {},
   "outputs": [],
   "source": [
    "def image_matting(object_image_path, background_image_path):\n",
    "    # Read the object image\n",
    "    object_image = cv2.imread(object_image_path)\n",
    "    object_image = cv2.cvtColor(object_image, cv2.COLOR_BGR2RGB)\n",
    "    \n",
    "    # Read the background image\n",
    "    background_image = cv2.imread(background_image_path)\n",
    "    background_image = cv2.cvtColor(background_image, cv2.COLOR_BGR2RGB)\n",
    "\n",
    "    # Resize the background image to match the object image size\n",
    "    background_image = cv2.resize(background_image, (object_image.shape[1], object_image.shape[0]))\n",
    "\n",
    "    # Create a mask initialized as background\n",
    "    mask = np.zeros(object_image.shape[:2], np.uint8)\n",
    "    mask[:,:] = cv2.GC_PR_BGD  # Set all pixels to probable background\n",
    "\n",
    "    # Define a rectangle enclosing the object\n",
    "    rect = (10, 10, object_image.shape[1] - 20, object_image.shape[0] - 20)  # (x, y, width, height)\n",
    "\n",
    "    # Apply GrabCut to refine the mask\n",
    "    bgd_model = np.zeros((1, 65), np.float64)\n",
    "    fgd_model = np.zeros((1, 65), np.float64)\n",
    "    cv2.grabCut(object_image, mask, rect, bgd_model, fgd_model, 5, cv2.GC_INIT_WITH_RECT)\n",
    "\n",
    "    # Create a binary mask where probable and definite foreground pixels are set to 1\n",
    "    binary_mask = np.where((mask == cv2.GC_FGD) | (mask == cv2.GC_PR_FGD), 1, 0).astype(np.uint8) * 255\n",
    "\n",
    "    # Convert binary mask to alpha matte\n",
    "    alpha_matte = binary_mask.astype(np.float32) / 255.0\n",
    "    \n",
    "    # Composite object image and background image using alpha matte\n",
    "    result = np.zeros_like(object_image, dtype=np.uint8)\n",
    "    for i in range(3):\n",
    "        result[:,:,i] = alpha_matte * object_image[:,:,i] + (1 - alpha_matte) * background_image[:,:,i]\n",
    "    \n",
    "    return object_image, background_image, result, binary_mask"
   ]
  },
  {
   "cell_type": "code",
   "execution_count": 10,
   "metadata": {},
   "outputs": [],
   "source": [
    "def plot_images(object_image, background_image, result_image, binary_mask):\n",
    "    plt.figure(figsize=(20, 8))\n",
    "    \n",
    "    # Object image\n",
    "    plt.subplot(1, 4, 1)\n",
    "    plt.imshow(object_image)\n",
    "    plt.title('Object Image')\n",
    "    plt.axis('off')\n",
    "    \n",
    "    # Background image\n",
    "    plt.subplot(1, 4, 2)\n",
    "    plt.imshow(background_image)\n",
    "    plt.title('Background Image')\n",
    "    plt.axis('off')\n",
    "\n",
    "    # Binary mask\n",
    "    plt.subplot(1, 4, 4)\n",
    "    plt.imshow(binary_mask, cmap='gray')\n",
    "    plt.title('Binary Mask')\n",
    "    plt.axis('off')\n",
    "    \n",
    "    # Result image\n",
    "    plt.subplot(1, 4, 3)\n",
    "    plt.imshow(result_image)\n",
    "    plt.title('Result')\n",
    "    plt.axis('off')"
   ]
  },
  {
   "cell_type": "code",
   "execution_count": 16,
   "metadata": {},
   "outputs": [],
   "source": [
    "object_image_path = 'jb.jpg'  # Replace with your object image file path\n",
    "background_image_path = 'background2.jpg'  # Replace with your background image file path\n",
    "\n",
    "object_image, background_image, result_image, binary_mask = image_matting(object_image_path, background_image_path)\n",
    "plot_images(object_image, background_image, result_image, binary_mask)"
   ]
  }
 ],
 "metadata": {
  "kernelspec": {
   "display_name": "Dsci",
   "language": "python",
   "name": "dsci"
  },
  "language_info": {
   "codemirror_mode": {
    "name": "ipython",
    "version": 3
   },
   "file_extension": ".py",
   "mimetype": "text/x-python",
   "name": "python",
   "nbconvert_exporter": "python",
   "pygments_lexer": "ipython3",
   "version": "3.10.13"
  }
 },
 "nbformat": 4,
 "nbformat_minor": 2
}
