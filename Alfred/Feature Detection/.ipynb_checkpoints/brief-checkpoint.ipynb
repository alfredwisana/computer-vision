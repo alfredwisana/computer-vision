{
 "cells": [
  {
   "cell_type": "code",
   "execution_count": 1,
   "metadata": {},
   "outputs": [
    {
     "ename": "",
     "evalue": "",
     "output_type": "error",
     "traceback": [
      "\u001b[1;31mThe Kernel crashed while executing code in the current cell or a previous cell. \n",
      "\u001b[1;31mPlease review the code in the cell(s) to identify a possible cause of the failure. \n",
      "\u001b[1;31mClick <a href='https://aka.ms/vscodeJupyterKernelCrash'>here</a> for more info. \n",
      "\u001b[1;31mView Jupyter <a href='command:jupyter.viewOutput'>log</a> for further details."
     ]
    }
   ],
   "source": [
    "import cv2\n",
    "import matplotlib.pyplot as plt\n",
    "import numpy\n",
    "\n",
    "def extract_BRIEF_features(image):\n",
    "  \"\"\"\n",
    "  Extracts BRIEF features from an image.\n",
    "\n",
    "  Args:\n",
    "      image: A grayscale image as a NumPy array.\n",
    "\n",
    "  Returns:\n",
    "      A tuple containing:\n",
    "          - keypoints: A list of keypoints detected in the image.\n",
    "          - descriptors: A NumPy array containing BRIEF descriptors for each keypoint.\n",
    "  \"\"\"\n",
    "  # Initiate keypoint detector (e.g., ORB)\n",
    "  orb = cv2.ORB_create()\n",
    "\n",
    "  # Detect keypoints\n",
    "  keypoints = orb.detect(image)\n",
    "\n",
    "  # Extract BRIEF descriptors for each keypoint\n",
    "  keypoints, descriptors = orb.compute(image, keypoints)\n",
    "\n",
    "  return keypoints, descriptors\n",
    "\n",
    "# Example usage\n",
    "image = cv2.imread(\"ant.jpg\", cv2.IMREAD_GRAYSCALE)\n",
    "keypoints, descriptors = extract_BRIEF_features(image)\n",
    "\n",
    "# (Optional) Visualize keypoints\n",
    "cv2.drawKeypoints(image, keypoints, image, color=(0, 255, 0), flags=0)\n",
    "cv2.imshow(\"Image with Keypoints\", image)\n",
    "cv2.waitKey(0)\n",
    "cv2.destroyAllWindows()\n",
    "\n",
    "print(\"Extracted\", len(keypoints), \"BRIEF descriptors.\")\n"
   ]
  }
 ],
 "metadata": {
  "kernelspec": {
   "display_name": "py310",
   "language": "python",
   "name": "python3"
  },
  "language_info": {
   "codemirror_mode": {
    "name": "ipython",
    "version": 3
   },
   "file_extension": ".py",
   "mimetype": "text/x-python",
   "name": "python",
   "nbconvert_exporter": "python",
   "pygments_lexer": "ipython3",
   "version": "3.10.13"
  }
 },
 "nbformat": 4,
 "nbformat_minor": 2
}
